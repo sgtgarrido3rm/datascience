{
  "nbformat": 4,
  "nbformat_minor": 0,
  "metadata": {
    "colab": {
      "provenance": [],
      "authorship_tag": "ABX9TyPieAeZsJX0yDnaQmPGmncz",
      "include_colab_link": true
    },
    "kernelspec": {
      "name": "python3",
      "display_name": "Python 3"
    },
    "language_info": {
      "name": "python"
    }
  },
  "cells": [
    {
      "cell_type": "markdown",
      "metadata": {
        "id": "view-in-github",
        "colab_type": "text"
      },
      "source": [
        "<a href=\"https://colab.research.google.com/github/sgtgarrido3rm/datascience_ia/blob/main/DataAnalytics_HistoricosVendas.ipynb\" target=\"_parent\"><img src=\"https://colab.research.google.com/assets/colab-badge.svg\" alt=\"Open In Colab\"/></a>"
      ]
    },
    {
      "cell_type": "code",
      "execution_count": 7,
      "metadata": {
        "id": "rw4a3HscQ7LL"
      },
      "outputs": [],
      "source": [
        "import numpy as np\n",
        "import pandas as pd\n",
        "from scipy import stats"
      ]
    },
    {
      "cell_type": "markdown",
      "source": [
        "# **Gerar dados de vendas aleatórios (exemplo fictício)**\n",
        "\n",
        "**Dados de vendas (distribuição normal)**"
      ],
      "metadata": {
        "id": "x8D2iM2CRRTN"
      }
    },
    {
      "cell_type": "code",
      "source": [
        "np.random.seed(42) # Para reprodução dos resultados\n",
        "num_samples = 100 # Número total de vendas\n",
        "sales = np.random.normal(loc=50, scale=10, size=num_samples)"
      ],
      "metadata": {
        "id": "T1sVXbgERT2P"
      },
      "execution_count": 8,
      "outputs": []
    },
    {
      "cell_type": "markdown",
      "source": [
        "**Gerar dados de dias da semana (exemplo fictício)**"
      ],
      "metadata": {
        "id": "kKDS3Bw9RpEy"
      }
    },
    {
      "cell_type": "code",
      "source": [
        "days_of_week = ['Segunda', 'Terça', 'Quarta', 'Quinta', 'Sexta',\n",
        "'Sábado', 'Domingo']\n",
        "day_labels = np.random.choice(days_of_week, size=num_samples)"
      ],
      "metadata": {
        "id": "0pkpigrBRr7T"
      },
      "execution_count": 9,
      "outputs": []
    },
    {
      "cell_type": "markdown",
      "source": [
        "**Criar DataFrame com os dados**"
      ],
      "metadata": {
        "id": "vjfd458rRuKx"
      }
    },
    {
      "cell_type": "code",
      "source": [
        "data = pd.DataFrame({'Vendas': sales, 'Dia': day_labels})\n",
        "\n",
        "print(data)"
      ],
      "metadata": {
        "colab": {
          "base_uri": "https://localhost:8080/"
        },
        "id": "vwENObSERwTP",
        "outputId": "5b2801dc-b469-4bc2-f4f1-d154cccb14b1"
      },
      "execution_count": 10,
      "outputs": [
        {
          "output_type": "stream",
          "name": "stdout",
          "text": [
            "       Vendas      Dia\n",
            "0   54.967142  Segunda\n",
            "1   48.617357   Sábado\n",
            "2   56.476885    Sexta\n",
            "3   65.230299  Segunda\n",
            "4   47.658466   Quarta\n",
            "..        ...      ...\n",
            "95  35.364851  Segunda\n",
            "96  52.961203   Quinta\n",
            "97  52.610553   Quinta\n",
            "98  50.051135  Segunda\n",
            "99  47.654129    Terça\n",
            "\n",
            "[100 rows x 2 columns]\n"
          ]
        }
      ]
    },
    {
      "cell_type": "markdown",
      "source": [
        "**Separar vendas por finais de semana e dias da semana**"
      ],
      "metadata": {
        "id": "jE7XPuOpRySs"
      }
    },
    {
      "cell_type": "code",
      "source": [
        "weekend_sales = data[data['Dia'].isin(['Sábado', 'Domingo'])]['Vendas']\n",
        "weekday_sales = data[data['Dia'].isin(['Segunda', 'Terça', 'Quarta',\n",
        "'Quinta', 'Sexta'])]['Vendas']\n",
        "\n",
        "print(\n",
        "    f\"Média de vendas nos finais de semana: {weekend_sales.mean()}\"\n",
        ")\n",
        "print(\n",
        "    f\"Média de vendas nos dias da semana: {weekday_sales.mean()}\"\n",
        ")"
      ],
      "metadata": {
        "colab": {
          "base_uri": "https://localhost:8080/"
        },
        "id": "wlMw72MvR0v7",
        "outputId": "738bca17-f1f6-46bc-b917-d60d72b34a33"
      },
      "execution_count": 11,
      "outputs": [
        {
          "output_type": "stream",
          "name": "stdout",
          "text": [
            "Média de vendas nos finais de semana: 47.27885040046095\n",
            "Média de vendas nos dias da semana: 49.52242963459177\n"
          ]
        }
      ]
    },
    {
      "cell_type": "markdown",
      "source": [
        "**Iniciando Teste**"
      ],
      "metadata": {
        "id": "fzCa4U2I3Kio"
      }
    },
    {
      "cell_type": "code",
      "source": [
        "# Definindo dados de entrada\n",
        "mean_weekend = 47.27885040046095  # Média de vendas nos finais de semana\n",
        "mean_weekday = 49.52242963459177  # Média de vendas nos dias da semana\n",
        "std_dev = 0.05                    # Desvio padrão (assumindo igual para ambos)\n",
        "n = 100                           # Tamanho da amostra para ambos os grupos\n",
        "\n",
        "# Cálculo do valor t\n",
        "t_statistic = (mean_weekday - mean_weekend) / np.sqrt((std_dev**2 / n) + (std_dev**2 / n))\n",
        "\n",
        "# Cálculo do valor-p para o teste t bicaudal\n",
        "p_value = 2 * (1 - stats.t.cdf(abs(t_statistic), df=2 * n - 2))\n",
        "\n",
        "# Exibindo os resultados\n",
        "print(\"Estatística t:\", t_statistic)\n",
        "print(\"Valor-p:\", p_value)\n",
        "\n",
        "# Interpretação do resultado\n",
        "alpha = 0.05  # Nível de significância\n",
        "\n",
        "if p_value < alpha:\n",
        "    print(\"Rejeitamos a hipótese nula: há uma diferença significativa nas vendas entre os finais de semana e os dias da semana.\")\n",
        "else:\n",
        "    print(\"Não rejeitamos a hipótese nula: não há diferença significativa nas vendas entre os finais de semana e os dias da semana.\")"
      ],
      "metadata": {
        "colab": {
          "base_uri": "https://localhost:8080/"
        },
        "id": "v18xu85r3Oqp",
        "outputId": "d0f28db4-9730-4122-9253-00b28ec11efd"
      },
      "execution_count": 33,
      "outputs": [
        {
          "output_type": "stream",
          "name": "stdout",
          "text": [
            "Estatística t: 317.2900181166437\n",
            "Valor-p: 0.0\n",
            "Rejeitamos a hipótese nula: há uma diferença significativa nas vendas entre os finais de semana e os dias da semana.\n"
          ]
        }
      ]
    }
  ]
}